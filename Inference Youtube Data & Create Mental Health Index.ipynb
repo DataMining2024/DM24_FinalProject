{
 "cells": [
  {
   "cell_type": "markdown",
   "metadata": {},
   "source": [
    "### Configuration"
   ]
  },
  {
   "cell_type": "code",
   "execution_count": 2,
   "metadata": {},
   "outputs": [
    {
     "data": {
      "text/plain": [
       "True"
      ]
     },
     "execution_count": 2,
     "metadata": {},
     "output_type": "execute_result"
    }
   ],
   "source": [
    "import os\n",
    "os.environ[\"CUDA_DEVICE_ORDER\"]=\"PCI_BUS_ID\"   \n",
    "os.environ[\"CUDA_VISIBLE_DEVICES\"]=\"0,1,2,3\"\n",
    "\n",
    "import pandas as pd\n",
    "import numpy as np\n",
    "import torch\n",
    "from tqdm import tqdm\n",
    "import matplotlib.pyplot as plt\n",
    "import seaborn as sns\n",
    "from transformers import AutoModelForSequenceClassification, AutoTokenizer, DataCollatorWithPadding, Trainer\n",
    "from torch.utils.data import Dataset, DataLoader\n",
    "from multiprocessing import Pool\n",
    "from functools import partial\n",
    "from torch.nn import Softmax\n",
    "import warnings\n",
    "warnings.filterwarnings(\"ignore\")\n",
    "\n",
    "TEST_RATIO = 0.1 \n",
    "MASTER_SEED = 42\n",
    "MODEL_ID = 1\n",
    "MODELS = (\n",
    "    'klue/roberta-base', # 0\n",
    "    'klue/roberta-large', # 1\n",
    "    'klue/bert-base', # 2\n",
    "    'monologg/koelectra-base-v3-discriminator' # 3    \n",
    ")\n",
    "MODEL_NAME = MODELS[MODEL_ID]\n",
    "BATCH_SZIE = 50\n",
    "REPETITIONS = 50\n",
    "torch.cuda.is_available()"
   ]
  },
  {
   "cell_type": "code",
   "execution_count": 3,
   "metadata": {},
   "outputs": [
    {
     "data": {
      "text/html": [
       "<div>\n",
       "<style scoped>\n",
       "    .dataframe tbody tr th:only-of-type {\n",
       "        vertical-align: middle;\n",
       "    }\n",
       "\n",
       "    .dataframe tbody tr th {\n",
       "        vertical-align: top;\n",
       "    }\n",
       "\n",
       "    .dataframe thead th {\n",
       "        text-align: right;\n",
       "    }\n",
       "</style>\n",
       "<table border=\"1\" class=\"dataframe\">\n",
       "  <thead>\n",
       "    <tr style=\"text-align: right;\">\n",
       "      <th></th>\n",
       "      <th>publishedAt</th>\n",
       "      <th>videoTitle</th>\n",
       "      <th>clean_text</th>\n",
       "    </tr>\n",
       "  </thead>\n",
       "  <tbody>\n",
       "    <tr>\n",
       "      <th>0</th>\n",
       "      <td>2020-08-01T07:32:13Z</td>\n",
       "      <td>2명 사망·이재민 150명‥충청·전북에 오늘 또 물폭탄 - [LIVE]MBC 뉴스투...</td>\n",
       "      <td>기상청  날씨하나 맞추는게 어렵니</td>\n",
       "    </tr>\n",
       "    <tr>\n",
       "      <th>1</th>\n",
       "      <td>2020-07-31T10:41:35Z</td>\n",
       "      <td>2명 사망·이재민 150명‥충청·전북에 오늘 또 물폭탄 - [LIVE]MBC 뉴스투...</td>\n",
       "      <td>뭔 뉴스에 광고가 이리도 많나요 징허네 진짜</td>\n",
       "    </tr>\n",
       "    <tr>\n",
       "      <th>2</th>\n",
       "      <td>2020-07-31T09:59:54Z</td>\n",
       "      <td>2명 사망·이재민 150명‥충청·전북에 오늘 또 물폭탄 - [LIVE]MBC 뉴스투...</td>\n",
       "      <td>잠금만 풀면되지 왜 오래들고 있냐증거물 없애려고 그러는거 아냐</td>\n",
       "    </tr>\n",
       "    <tr>\n",
       "      <th>3</th>\n",
       "      <td>2020-07-31T09:47:32Z</td>\n",
       "      <td>2명 사망·이재민 150명‥충청·전북에 오늘 또 물폭탄 - [LIVE]MBC 뉴스투...</td>\n",
       "      <td>한똥훈 니 말을 어떻게 믿냐 미꾸라지 같어</td>\n",
       "    </tr>\n",
       "    <tr>\n",
       "      <th>4</th>\n",
       "      <td>2020-07-31T09:07:38Z</td>\n",
       "      <td>2명 사망·이재민 150명‥충청·전북에 오늘 또 물폭탄 - [LIVE]MBC 뉴스투...</td>\n",
       "      <td>이슬비 보슬비 가랑비에호들갑</td>\n",
       "    </tr>\n",
       "  </tbody>\n",
       "</table>\n",
       "</div>"
      ],
      "text/plain": [
       "            publishedAt                                         videoTitle  \\\n",
       "0  2020-08-01T07:32:13Z  2명 사망·이재민 150명‥충청·전북에 오늘 또 물폭탄 - [LIVE]MBC 뉴스투...   \n",
       "1  2020-07-31T10:41:35Z  2명 사망·이재민 150명‥충청·전북에 오늘 또 물폭탄 - [LIVE]MBC 뉴스투...   \n",
       "2  2020-07-31T09:59:54Z  2명 사망·이재민 150명‥충청·전북에 오늘 또 물폭탄 - [LIVE]MBC 뉴스투...   \n",
       "3  2020-07-31T09:47:32Z  2명 사망·이재민 150명‥충청·전북에 오늘 또 물폭탄 - [LIVE]MBC 뉴스투...   \n",
       "4  2020-07-31T09:07:38Z  2명 사망·이재민 150명‥충청·전북에 오늘 또 물폭탄 - [LIVE]MBC 뉴스투...   \n",
       "\n",
       "                           clean_text  \n",
       "0                  기상청  날씨하나 맞추는게 어렵니  \n",
       "1            뭔 뉴스에 광고가 이리도 많나요 징허네 진짜  \n",
       "2  잠금만 풀면되지 왜 오래들고 있냐증거물 없애려고 그러는거 아냐  \n",
       "3             한똥훈 니 말을 어떻게 믿냐 미꾸라지 같어  \n",
       "4                     이슬비 보슬비 가랑비에호들갑  "
      ]
     },
     "execution_count": 3,
     "metadata": {},
     "output_type": "execute_result"
    }
   ],
   "source": [
    "# Load Preprocess Youtube Data\n",
    "youtube_df = pd.read_csv('../data/youtube_process/preprocess_youtube_df.csv', encoding='utf-8-sig',lineterminator='\\n')\n",
    "youtube_df = youtube_df[['publishedAt','videoTitle','clean_text']]\n",
    "youtube_df.head()"
   ]
  },
  {
   "cell_type": "markdown",
   "metadata": {},
   "source": [
    "- Loading Saving Model"
   ]
  },
  {
   "cell_type": "code",
   "execution_count": 9,
   "metadata": {},
   "outputs": [],
   "source": [
    "# loading saving model and tokenizer\n",
    "model_path = '../Sentiment_Analysis/save_output/finetune_roberta-large_20240417_122910/checkpoint-9930' # RoBERTa-large\n",
    "model_path = '../Sentiment_Analysis/output/further_pretrain_robert-large_20240619_173057/checkpoint-9930' # futther RoBERTa-large\n",
    "\n",
    "model = AutoModelForSequenceClassification.from_pretrained(model_path,device_map=\"auto\")\n",
    "tokenizer = AutoTokenizer.from_pretrained(model_path)\n",
    "collator = DataCollatorWithPadding(tokenizer)"
   ]
  },
  {
   "cell_type": "markdown",
   "metadata": {},
   "source": [
    "### Inference Youtube Data Sentiment\n",
    "- inference time : 14h"
   ]
  },
  {
   "cell_type": "code",
   "execution_count": 11,
   "metadata": {},
   "outputs": [
    {
     "name": "stderr",
     "output_type": "stream",
     "text": [
      "100%|██████████| 20/20 [00:24<00:00,  1.22s/it]\n"
     ]
    }
   ],
   "source": [
    "device = torch.device(\"cuda\" if torch.cuda.is_available() else \"cpu\")\n",
    "inference_texts = youtube_df['clean_text'].tolist()\n",
    "\n",
    "batch_size = 100 # 한번에 처리할 데이터 수\n",
    "batch_li = []\n",
    "temp_li = []\n",
    "prediction_results = []\n",
    "\n",
    "for idx, text in enumerate(inference_texts):\n",
    "    temp_li.append(text)\n",
    "    if len(temp_li) == batch_size or idx == len(inference_texts) - 1:\n",
    "        batch_li.append(temp_li)\n",
    "        temp_li = []\n",
    "\n",
    "for text_batch in tqdm(batch_li):\n",
    "    # Tokenize and prepare inputa\n",
    "    inference_encodings = tokenizer(text_batch, truncation=True, padding=True, return_tensors=\"pt\")\n",
    "    input_data = {key: tensor.to(device) for key, tensor in inference_encodings.items()}\n",
    "    # Perform inference\n",
    "    with torch.no_grad():\n",
    "        model.eval()\n",
    "        outputs = model(**input_data)\n",
    "    # Calculate probabilities\n",
    "    probabilities = torch.softmax(outputs.logits, dim=1).tolist()\n",
    "    # Extract predicted labels\n",
    "    predictions = outputs.logits.argmax(dim=1).tolist()\n",
    "    sentiment_map = {0: 'happy', 1: 'angry', 2: 'sad', 3: 'neutral'}\n",
    "    prediction_label = [sentiment_map[prediction] for prediction in predictions]\n",
    "    # Combine labels with probabilities\n",
    "    for i in range(len(text_batch)):\n",
    "        result = {\n",
    "            'Text': text_batch[i],\n",
    "            'Top_Sentiment': prediction_label[i],\n",
    "            'Prob_Happy': probabilities[i][0],\n",
    "            'Prob_Angry': probabilities[i][1],\n",
    "            'Prob_Sad': probabilities[i][2],\n",
    "            'Prob_Neutral': probabilities[i][3]\n",
    "        }\n",
    "        prediction_results.append(result)"
   ]
  },
  {
   "cell_type": "code",
   "execution_count": 15,
   "metadata": {},
   "outputs": [
    {
     "data": {
      "text/html": [
       "<div>\n",
       "<style scoped>\n",
       "    .dataframe tbody tr th:only-of-type {\n",
       "        vertical-align: middle;\n",
       "    }\n",
       "\n",
       "    .dataframe tbody tr th {\n",
       "        vertical-align: top;\n",
       "    }\n",
       "\n",
       "    .dataframe thead th {\n",
       "        text-align: right;\n",
       "    }\n",
       "</style>\n",
       "<table border=\"1\" class=\"dataframe\">\n",
       "  <thead>\n",
       "    <tr style=\"text-align: right;\">\n",
       "      <th></th>\n",
       "      <th>publishedAt</th>\n",
       "      <th>videoTitle</th>\n",
       "      <th>text</th>\n",
       "      <th>Text</th>\n",
       "      <th>Top_Sentiment</th>\n",
       "      <th>Prob_Happy</th>\n",
       "      <th>Prob_Angry</th>\n",
       "      <th>Prob_Sad</th>\n",
       "      <th>Prob_Neutral</th>\n",
       "      <th>Mental_index_score</th>\n",
       "    </tr>\n",
       "  </thead>\n",
       "  <tbody>\n",
       "    <tr>\n",
       "      <th>13</th>\n",
       "      <td>2020-07-31T05:12:54Z</td>\n",
       "      <td>2명 사망·이재민 150명‥충청·전북에 오늘 또 물폭탄 - [LIVE]MBC 뉴스투...</td>\n",
       "      <td>한동훈 너무 뻔뻔스럽다, 대한민국 법이 너무 웃켜, 법인이 큰소리 치고있고만.</td>\n",
       "      <td>한동훈 너무 뻔뻔스럽다, 대한민국 법이 너무 웃켜, 법인이 큰소리 치고있고만.</td>\n",
       "      <td>happy</td>\n",
       "      <td>0.623844</td>\n",
       "      <td>0.011767</td>\n",
       "      <td>0.356197</td>\n",
       "      <td>0.008191</td>\n",
       "      <td>0.255880</td>\n",
       "    </tr>\n",
       "    <tr>\n",
       "      <th>49</th>\n",
       "      <td>2020-07-30T23:55:16Z</td>\n",
       "      <td>2명 사망·이재민 150명‥충청·전북에 오늘 또 물폭탄 - [LIVE]MBC 뉴스투...</td>\n",
       "      <td>애들아고맘다'''몰났리나서'내가살았다''코로나가나를인기올려주네'그래'그래잘한다'애들...</td>\n",
       "      <td>애들아고맘다'''몰났리나서'내가살았다''코로나가나를인기올려주네'그래'그래잘한다'애들...</td>\n",
       "      <td>happy</td>\n",
       "      <td>0.999581</td>\n",
       "      <td>0.000219</td>\n",
       "      <td>0.000033</td>\n",
       "      <td>0.000167</td>\n",
       "      <td>0.999328</td>\n",
       "    </tr>\n",
       "    <tr>\n",
       "      <th>78</th>\n",
       "      <td>2020-07-30T03:33:52Z</td>\n",
       "      <td>호우특보 - [LIVE] MBC 뉴스특보 2020년 7월 30일</td>\n",
       "      <td>핵발전의 축복! 물부족 국가에서 물폭탄 국가로, 중국에 핵발전소 올 연말이면 49기...</td>\n",
       "      <td>핵발전의 축복! 물부족 국가에서 물폭탄 국가로, 중국에 핵발전소 올 연말이면 49기...</td>\n",
       "      <td>happy</td>\n",
       "      <td>0.999403</td>\n",
       "      <td>0.000472</td>\n",
       "      <td>0.000109</td>\n",
       "      <td>0.000016</td>\n",
       "      <td>0.998823</td>\n",
       "    </tr>\n",
       "  </tbody>\n",
       "</table>\n",
       "</div>"
      ],
      "text/plain": [
       "             publishedAt                                         videoTitle  \\\n",
       "13  2020-07-31T05:12:54Z  2명 사망·이재민 150명‥충청·전북에 오늘 또 물폭탄 - [LIVE]MBC 뉴스투...   \n",
       "49  2020-07-30T23:55:16Z  2명 사망·이재민 150명‥충청·전북에 오늘 또 물폭탄 - [LIVE]MBC 뉴스투...   \n",
       "78  2020-07-30T03:33:52Z                호우특보 - [LIVE] MBC 뉴스특보 2020년 7월 30일   \n",
       "\n",
       "                                                 text  \\\n",
       "13        한동훈 너무 뻔뻔스럽다, 대한민국 법이 너무 웃켜, 법인이 큰소리 치고있고만.   \n",
       "49  애들아고맘다'''몰났리나서'내가살았다''코로나가나를인기올려주네'그래'그래잘한다'애들...   \n",
       "78  핵발전의 축복! 물부족 국가에서 물폭탄 국가로, 중국에 핵발전소 올 연말이면 49기...   \n",
       "\n",
       "                                                 Text Top_Sentiment  \\\n",
       "13        한동훈 너무 뻔뻔스럽다, 대한민국 법이 너무 웃켜, 법인이 큰소리 치고있고만.         happy   \n",
       "49  애들아고맘다'''몰났리나서'내가살았다''코로나가나를인기올려주네'그래'그래잘한다'애들...         happy   \n",
       "78  핵발전의 축복! 물부족 국가에서 물폭탄 국가로, 중국에 핵발전소 올 연말이면 49기...         happy   \n",
       "\n",
       "    Prob_Happy  Prob_Angry  Prob_Sad  Prob_Neutral  Mental_index_score  \n",
       "13    0.623844    0.011767  0.356197      0.008191            0.255880  \n",
       "49    0.999581    0.000219  0.000033      0.000167            0.999328  \n",
       "78    0.999403    0.000472  0.000109      0.000016            0.998823  "
      ]
     },
     "execution_count": 15,
     "metadata": {},
     "output_type": "execute_result"
    }
   ],
   "source": [
    "inference_df = pd.DataFrame(prediction_results)\n",
    "inference_df = pd.concat([youtube_df, inference_df], axis=1)\n",
    "inference_df['Mental_index_score'] = (inference_df['Prob_Happy'] * +1) + (inference_df['Prob_Angry'] * -1) + (inference_df['Prob_Sad'] * -1) + (inference_df['Prob_Neutral'] * 0)\n",
    "# inference_df.to_csv('../data/youtube_inference/inference_youtube_sentiment.csv',index=False,encoding='utf-8-sig')\n",
    "inference_df.head(3)"
   ]
  },
  {
   "cell_type": "markdown",
   "metadata": {},
   "source": [
    "- Mental Index Score"
   ]
  },
  {
   "cell_type": "code",
   "execution_count": 17,
   "metadata": {},
   "outputs": [
    {
     "data": {
      "image/png": "[encoded data removed]",
      "text/plain": [
       "<Figure size 600x400 with 1 Axes>"
      ]
     },
     "metadata": {},
     "output_type": "display_data"
    }
   ],
   "source": [
    "plt.figure(figsize=(6, 4))\n",
    "sns.histplot(inference_df['Mental_index_score'], kde=True, bins=20)\n",
    "plt.title('Distribution of Mental Index Score')\n",
    "plt.xlabel('Mental Index Score')\n",
    "plt.ylabel('Frequency')\n",
    "plt.show()"
   ]
  },
  {
   "cell_type": "markdown",
   "metadata": {},
   "source": [
    "### Checking Sentiment Distribution"
   ]
  },
  {
   "cell_type": "code",
   "execution_count": 7,
   "metadata": {},
   "outputs": [
    {
     "data": {
      "image/png": "[encoded data removed]",
      "text/plain": [
       "<Figure size 600x400 with 1 Axes>"
      ]
     },
     "metadata": {},
     "output_type": "display_data"
    }
   ],
   "source": [
    "df = pd.read_csv('../data/youtube_inference/inference_youtube_sentiment.csv', lineterminator='\\n')\n",
    "df['sentiment_happy'] = df['Top_Sentiment'].apply(lambda x: 1 if x == 'happy' else 0)\n",
    "df['sentiment_sad'] = df['Top_Sentiment'].apply(lambda x: 1 if x == 'sad' else 0)\n",
    "df['sentiment_angry'] = df['Top_Sentiment'].apply(lambda x: 1 if x == 'angry' else 0)\n",
    "df['sentiment_neutral'] = df['Top_Sentiment'].apply(lambda x: 1 if x == 'neutral' else 0)\n",
    "\n",
    "colors = ['blue', 'green', 'orange', 'red']\n",
    "sentiment_counts = df['Top_Sentiment'].value_counts()\n",
    "plt.figure(figsize=(6, 4))\n",
    "sentiment_counts.plot(kind='bar', color=colors)\n",
    "plt.title('Sentiment Distribution')\n",
    "plt.xlabel('Sentiment')\n",
    "plt.ylabel('Count')\n",
    "plt.xticks(rotation=360)\n",
    "plt.show()"
   ]
  },
  {
   "cell_type": "markdown",
   "metadata": {},
   "source": [
    "- 일자별 감정 칼럼"
   ]
  },
  {
   "cell_type": "code",
   "execution_count": 25,
   "metadata": {},
   "outputs": [],
   "source": [
    "df['publish_date'] = df['publishedAt'].str[:10]\n",
    "daily_groupby = df.groupby('publish_date').sum()\n",
    "daily_groupby = daily_groupby.reset_index()\n",
    "daily_groupby['publish_date'] = pd.to_datetime(daily_groupby['publish_date'])\n",
    "daily_groupby = daily_groupby.set_index('publish_date')\n",
    "daily_groupby_2020 = daily_groupby['2020-01-01':'2020-12-31']\n",
    "daily_groupby_2021 = daily_groupby['2021-01-01':'2021-12-31']\n",
    "daily_groupby_2022 = daily_groupby['2022-01-01':'2022-12-31']"
   ]
  },
  {
   "cell_type": "code",
   "execution_count": null,
   "metadata": {},
   "outputs": [],
   "source": [
    "daily_groupby_2020['happy_sentiment_ratio'] = round((daily_groupby_2020['sentiment_happy']) / (daily_groupby_2020['sentiment_happy'] + daily_groupby_2020['sentiment_sad'] + daily_groupby_2020['sentiment_angry'] + daily_groupby_2020['sentiment_neutral']),3)\n",
    "daily_groupby_2020['angry_sentiment_ratio'] = round((daily_groupby_2020['sentiment_angry']) / (daily_groupby_2020['sentiment_happy'] + daily_groupby_2020['sentiment_sad'] + daily_groupby_2020['sentiment_angry'] + daily_groupby_2020['sentiment_neutral']),3)\n",
    "daily_groupby_2020['sad_sentiment_ratio'] = round((daily_groupby_2020['sentiment_sad']) / (daily_groupby_2020['sentiment_happy'] + daily_groupby_2020['sentiment_sad'] + daily_groupby_2020['sentiment_angry'] + daily_groupby_2020['sentiment_neutral']),3)\n",
    "plt.figure(figsize=(3, 4))\n",
    "daily_groupby_2020.plot(y=['happy_sentiment_ratio','angry_sentiment_ratio','sad_sentiment_ratio'],figsize=(10,7))\n",
    "plt.title('2020 Sentiment Ratio')\n",
    "plt.xlabel('Date')\n",
    "plt.ylabel('Ratio')\n",
    "plt.show()"
   ]
  },
  {
   "cell_type": "code",
   "execution_count": null,
   "metadata": {},
   "outputs": [],
   "source": [
    "daily_groupby_2021['happy_sentiment_ratio'] = round((daily_groupby_2021['sentiment_happy']) / (daily_groupby_2021['sentiment_happy'] + daily_groupby_2021['sentiment_sad'] + daily_groupby_2021['sentiment_angry'] + daily_groupby_2021['sentiment_neutral']),3)\n",
    "daily_groupby_2021['angry_sentiment_ratio'] = round((daily_groupby_2021['sentiment_angry']) / (daily_groupby_2021['sentiment_happy'] + daily_groupby_2021['sentiment_sad'] + daily_groupby_2021['sentiment_angry'] + daily_groupby_2021['sentiment_neutral']),3)\n",
    "daily_groupby_2021['sad_sentiment_ratio'] = round((daily_groupby_2021['sentiment_sad']) / (daily_groupby_2021['sentiment_happy'] + daily_groupby_2021['sentiment_sad'] + daily_groupby_2021['sentiment_angry'] + daily_groupby_2021['sentiment_neutral']),3)\n",
    "daily_groupby_2021.plot(y=['happy_sentiment_ratio','angry_sentiment_ratio','sad_sentiment_ratio'],figsize=(10,7))\n",
    "plt.title('2021 Sentiment Ratio')\n",
    "plt.xlabel('Date')\n",
    "plt.ylabel('Ratio')\n",
    "plt.show()"
   ]
  },
  {
   "cell_type": "code",
   "execution_count": null,
   "metadata": {},
   "outputs": [],
   "source": [
    "daily_groupby_2022['happy_sentiment_ratio'] = round((daily_groupby_2022['sentiment_happy']) / (daily_groupby_2022['sentiment_happy'] + daily_groupby_2022['sentiment_sad'] + daily_groupby_2022['sentiment_angry'] + daily_groupby_2022['sentiment_neutral']),3)\n",
    "daily_groupby_2022['angry_sentiment_ratio'] = round((daily_groupby_2022['sentiment_angry']) / (daily_groupby_2022['sentiment_happy'] + daily_groupby_2022['sentiment_sad'] + daily_groupby_2022['sentiment_angry'] + daily_groupby_2022['sentiment_neutral']),3)\n",
    "daily_groupby_2022['sad_sentiment_ratio'] = round((daily_groupby_2022['sentiment_sad']) / (daily_groupby_2022['sentiment_happy'] + daily_groupby_2022['sentiment_sad'] + daily_groupby_2022['sentiment_angry'] + daily_groupby_2022['sentiment_neutral']),3)\n",
    "daily_groupby_2022.plot(y=['happy_sentiment_ratio','angry_sentiment_ratio','sad_sentiment_ratio'],figsize=(10,7))\n",
    "plt.title('2022 Sentiment Ratio')\n",
    "plt.xlabel('Date')\n",
    "plt.ylabel('Ratio')\n",
    "plt.show()"
   ]
  },
  {
   "cell_type": "markdown",
   "metadata": {},
   "source": [
    "- 월별 감정 칼럼"
   ]
  },
  {
   "cell_type": "code",
   "execution_count": null,
   "metadata": {},
   "outputs": [],
   "source": [
    "daily_groupby.reset_index(inplace=True)\n",
    "month_groupby = daily_groupby.groupby(daily_groupby['publish_date'].dt.to_period('M')).sum()\n",
    "month_groupby['happy_sentiment_ratio'] = round((month_groupby['sentiment_happy']) / (month_groupby['sentiment_happy'] + month_groupby['sentiment_sad'] + month_groupby['sentiment_angry'] + month_groupby['sentiment_neutral']),3)\n",
    "month_groupby['angry_sentiment_ratio'] = round((month_groupby['sentiment_angry']) / (month_groupby['sentiment_happy'] + month_groupby['sentiment_sad'] + month_groupby['sentiment_angry'] + month_groupby['sentiment_neutral']),3)\n",
    "month_groupby['sad_sentiment_ratio'] = round((month_groupby['sentiment_sad']) / (month_groupby['sentiment_happy'] + month_groupby['sentiment_sad'] + month_groupby['sentiment_angry'] + month_groupby['sentiment_neutral']),3)\n",
    "\n",
    "month_groupby.plot(y=['happy_sentiment_ratio','angry_sentiment_ratio','sad_sentiment_ratio'],figsize=(10,5))\n",
    "plt.title('Month Sentiment Ratio')\n",
    "plt.xlabel('Date')\n",
    "plt.ylabel('Ratio')\n",
    "plt.show()"
   ]
  },
  {
   "cell_type": "code",
   "execution_count": null,
   "metadata": {},
   "outputs": [],
   "source": [
    "# month_groupby.reset_index(inplace=True)\n",
    "daily_groupby.to_csv('../data/daily_youtube_sentiment_cnt.csv',index=False)\n",
    "month_groupby.to_csv('../data/monthly_youtube_sentiment_cnt.csv',index=False)"
   ]
  },
  {
   "cell_type": "markdown",
   "metadata": {},
   "source": [
    "### checking inference time"
   ]
  },
  {
   "cell_type": "code",
   "execution_count": 34,
   "metadata": {},
   "outputs": [
    {
     "name": "stderr",
     "output_type": "stream",
     "text": [
      "100%|██████████| 10/10 [00:15<00:00,  1.53s/it]"
     ]
    },
    {
     "name": "stdout",
     "output_type": "stream",
     "text": [
      "500개 댓글 roberta-large inference time :  9.18 초\n"
     ]
    },
    {
     "name": "stderr",
     "output_type": "stream",
     "text": [
      "\n"
     ]
    }
   ],
   "source": [
    "# Configuration\n",
    "BATCH_SIZE = 50 # 한번에 처리할 데이터 수\n",
    "DATA_SIZE = 500 # 데이터 크기\n",
    "REPETITIONS = 2 # 추론 반복 횟수\n",
    "device = torch.device(\"cuda\" if torch.cuda.is_available() else \"cpu\")\n",
    "\n",
    "# Initialize CUDA events for timing\n",
    "starter, ender = torch.cuda.Event(enable_timing=True), torch.cuda.Event(enable_timing=True)\n",
    "# Time of the task (each row represents the inference time for one operation, in milliseconds (=1000*seconds))\n",
    "timings = np.zeros((REPETITIONS, 1)) \n",
    "total_batch_average_time = 0\n",
    "batch_li = []\n",
    "temp_li = []\n",
    "prediction_results = []\n",
    "inference_texts = youtube_df['text'].tolist()[:DATA_SIZE]\n",
    "for idx, text in enumerate(inference_texts):\n",
    "    temp_li.append(text)\n",
    "    if len(temp_li) == BATCH_SIZE or idx == len(inference_texts) - 1:\n",
    "        batch_li.append(temp_li)\n",
    "        temp_li = []\n",
    "\n",
    "# Measure performance\n",
    "for text_batch in tqdm(batch_li):\n",
    "    # Tokenize and prepare input\n",
    "    inference_encodings = tokenizer(text_batch, truncation=True, padding=True, return_tensors=\"pt\")\n",
    "    input_data = {key: tensor.to(device) for key, tensor in inference_encodings.items()}\n",
    "    # Perform inference\n",
    "    with torch.no_grad():\n",
    "        for rep in range(REPETITIONS):        \n",
    "            # Record start time\n",
    "            starter.record() \n",
    "            model.eval()\n",
    "            outputs = model(**input_data)\n",
    "            ender.record()\n",
    "            # Record end time \n",
    "            torch.cuda.synchronize()\n",
    "            curr_time = starter.elapsed_time(ender)\n",
    "            timings[rep] = curr_time\n",
    "    average_time = round(np.mean(timings / 100), 2) \n",
    "total_batch_average_time += average_time\n",
    "print(f'{DATA_SIZE}개 댓글 {MODEL_NAME} inference time : ', total_batch_average_time, '초')"
   ]
  }
 ],
 "metadata": {
  "kernelspec": {
   "display_name": "base",
   "language": "python",
   "name": "python3"
  },
  "language_info": {
   "codemirror_mode": {
    "name": "ipython",
    "version": 3
   },
   "file_extension": ".py",
   "mimetype": "text/x-python",
   "name": "python",
   "nbconvert_exporter": "python",
   "pygments_lexer": "ipython3",
   "version": "3.9.13"
  }
 },
 "nbformat": 4,
 "nbformat_minor": 2
}
